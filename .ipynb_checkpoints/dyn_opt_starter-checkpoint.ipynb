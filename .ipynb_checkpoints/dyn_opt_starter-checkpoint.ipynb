{
 "cells": [
  {
   "cell_type": "code",
   "execution_count": 1,
   "metadata": {},
   "outputs": [],
   "source": [
    "# imports ######################################################################\n",
    "import time, torch, numpy as np, matplotlib.pyplot as plt\n",
    "torch.set_default_tensor_type(torch.DoubleTensor)\n",
    "from sklearn import mixture as mix\n",
    "# imports ######################################################################"
   ]
  },
  {
   "cell_type": "code",
   "execution_count": 2,
   "metadata": {},
   "outputs": [],
   "source": [
    "# problem dynamics - a time invariant double integrator regulated to zero ######\n",
    "N, xdim, udim = 30, 2, 1\n",
    "# dynamics of the form:\n",
    "# x^(i+1) = f^(i) + fx^(i) x^(i) + fu^(i) u^(i) if i != 0\n",
    "# x^(1) = f^(0) + fu^(0) u^(0)                  otherwise\n",
    "x0 = torch.ones(xdim)\n",
    "fx = torch.tensor([[1.0, 0.1], [0.0, 0.1]])[None, ...].repeat((N, 1, 1))\n",
    "fu = torch.tensor([[0.0], [1.0]])[None, ...].repeat((N, 1, 1))\n",
    "f = torch.stack([fx[i] @ x0 if i == 0 else torch.zeros(xdim) \n",
    "    for i in range(N)])\n",
    "# cost of the dynamics\n",
    "Qd, Rd = torch.ones((N, xdim)), 1e-2 * torch.ones((N, udim))\n",
    "# problem dynamics - a time invariant double integrator regulated to zero ######"
   ]
  },
  {
   "cell_type": "code",
   "execution_count": 3,
   "metadata": {},
   "outputs": [],
   "source": [
    "# hyperparemeters ##############################################################\n",
    "# these hyperparameters are pretty much set to their \"optimal\" value\n",
    "# change them to learn about these methods\n",
    "\n",
    "# 0th: cross-entropy method\n",
    "M_cem = 10 # number of resampling iterations\n",
    "N_cem = int(1e3) # number of samples per iteration\n",
    "Ne_cem = int(0.1 * N_cem) # number of samples to keep for the new distribution \n",
    "K_cem = 1 # number of modes in the multimodal gaussian distribution\n",
    "lam_cem = 0.0 # dynamics violation penalty \n",
    "use_rollout_cem = True # False => use projection, penalization doesn't work\n",
    "\n",
    "# 1st: accelerated gradient descent\n",
    "K_agd = 10 # increment steps for the dynamics violation penalty\n",
    "lams_agd = 10**torch.linspace(0, 4, K_agd) # dynamics violation penalty \n",
    "use_rollout_agd = False # False => scheduled penalty optimization\n",
    "M_agd = int(3e1) if use_rollout_agd else int(1e2) # nb of gradient descent steps\n",
    "def lr_fn(i): # learning rate schedule\n",
    "    return 1e-1 + (1e-2 - 1e-1) / (M_agd - 1) * i \n",
    "\n",
    "# 2nd: constrained convex optimization\n",
    "# no hyperparameters\n",
    "# hyperparemeters ##############################################################"
   ]
  },
  {
   "cell_type": "code",
   "execution_count": 4,
   "metadata": {},
   "outputs": [],
   "source": [
    "# torch-numpy conversions ######################################################\n",
    "def torch2np(x):\n",
    "    return x.detach().cpu().numpy() if isinstance(x, torch.Tensor) else x\n",
    "def np2torch(x):\n",
    "    return torch.as_tensor(x)\n",
    "# torch-numpy conversions ######################################################"
   ]
  },
  {
   "cell_type": "code",
   "execution_count": 5,
   "metadata": {},
   "outputs": [],
   "source": [
    "# utility routines #############################################################\n",
    "# batch matrix vector multiplication\n",
    "def bmv(A, x): \n",
    "    return (A @ x[..., None])[..., 0]\n",
    "# dynamics violation value\n",
    "def dyn_viol(X, U): \n",
    "    viol = ((X[..., 0, :] - (\n",
    "        f[..., 0, :] \n",
    "        + bmv(fu[..., 0, :, :], U[..., 0, :])))**2).sum(-1)\n",
    "    viol += ((X[..., 1:, :] - (\n",
    "        f[1:, :] \n",
    "        + bmv(fx[..., 1:, :, :], X[..., :-1, :]) \n",
    "        + bmv(fu[..., 1:, :, :], U[..., 1:, :])))**2).sum((-2, -1))\n",
    "    return viol / N\n",
    "def obj_val(X, U): # objective value\n",
    "    return ((X * Qd * X).sum((-2, -1)) + (U * Rd * U).sum((-2, -1))) / N\n",
    "\n",
    "# z is defined as concatenated flattened state and flattened control values\n",
    "def split_vars(z):\n",
    "    bshape = z.shape[:-1]\n",
    "    X = z[..., :N*xdim].reshape(bshape + (N, xdim))\n",
    "    U = z[..., N*xdim:].reshape(bshape + (N, udim))\n",
    "    return X, U\n",
    "def join_vars(X, U):\n",
    "    bshape = X.shape[:-2]\n",
    "    z = torch.cat([X.reshape(bshape + (N * xdim,)), \n",
    "        U.reshape(bshape + (N * udim,))], -1)\n",
    "    return z\n",
    "\n",
    "# loss function generator with different dynamics violation penalty\n",
    "def loss_fn_gen(lam):\n",
    "    def loss_fn(z):\n",
    "        X, U = split_vars(z)\n",
    "        return obj_val(X, U) + lam * dyn_viol(X, U)\n",
    "    return loss_fn\n",
    "\n",
    "# dynamics equality matrix\n",
    "A, b = torch.zeros((N * xdim, N * (xdim + udim))), torch.zeros((N * xdim, 1))\n",
    "A[torch.arange(N * xdim), torch.arange(N * xdim)] = -1.0\n",
    "A[:xdim, N*xdim:N*xdim+udim] = fu[0, :, :]\n",
    "b[:xdim, 0] = -f[0, :]\n",
    "for i in range(1, N):\n",
    "    A[i*xdim:(i+1)*xdim, (i-1)*xdim:i*xdim] = fx[i, :, :]\n",
    "    A[i*xdim:(i+1)*xdim, xdim*N+i*udim:xdim*N+(i+1)*udim] = fu[i, :, :]\n",
    "    b[i*xdim:(i+1)*xdim, 0] = -f[i, :]\n",
    "# projection onto the dynamics wrt to minimum square distance\n",
    "def project(z0): \n",
    "    z0 = z0.transpose(-1, -2)\n",
    "    z = z0 - A.transpose(-1, -2) @ torch.cholesky_solve(A @ z0 - b, project.F)\n",
    "    return z.transpose(-1, -2)\n",
    "project.F = torch.cholesky(A @ A.transpose(-1, -2))\n",
    "\n",
    "# rolling out the dynamics wrt a control sequence\n",
    "def rollout(U): \n",
    "    Xs = [None for _ in range(N)]\n",
    "    Xs[0] = f[0, :] + bmv(fu[0, :, :], U[..., 0, :])\n",
    "    for i in range(1, N):\n",
    "        Xs[i] = (f[i, :] + bmv(fu[i, :, :], U[..., i, :]) \n",
    "                + bmv(fx[i, :, :], Xs[i-1]))\n",
    "    return torch.stack(Xs, -2)\n",
    "def project_rollout(z0):\n",
    "    X, U = split_vars(z0)\n",
    "    bshape = X.shape[:-2]\n",
    "    X = rollout(U)\n",
    "    return join_vars(X, U)\n",
    "# utility routines #############################################################"
   ]
  },
  {
   "cell_type": "code",
   "execution_count": 6,
   "metadata": {},
   "outputs": [
    {
     "name": "stdout",
     "output_type": "stream",
     "text": [
      "0th: ---------------------------------------------------------------------------\n",
      "Obj: 9.1454e-01\n",
      "Obj: 6.8119e-01\n",
      "Obj: 5.7852e-01\n",
      "Obj: 5.3430e-01\n",
      "Obj: 4.7700e-01\n",
      "Obj: 4.5431e-01\n",
      "Obj: 4.3943e-01\n",
      "Obj: 4.3209e-01\n",
      "Obj: 4.3078e-01\n",
      "Obj: 4.2784e-01\n",
      "Dynamics violation is 0.0000e+00\n",
      "       CEM took 1.6745e-01 s\n"
     ]
    }
   ],
   "source": [
    "# 0th order, cross-entropy method ##############################################\n",
    "loss_fn = loss_fn_gen(lam_cem)\n",
    "model = mix.GaussianMixture(K_cem)\n",
    "if use_rollout_cem: S = torch.randn((N_cem, N * udim))\n",
    "else:               S = torch.randn((N_cem, N * (xdim + udim)))\n",
    "print(\"0th: \" + \"-\" * 75)\n",
    "t = time.time()\n",
    "for i in range(M_cem):\n",
    "    L = (loss_fn(join_vars(rollout(S.reshape((-1, N, udim))), \n",
    "        S.reshape((-1, N, udim)))) if use_rollout_cem else loss_fn(S))\n",
    "    if i % max(M_cem // 10, 1) == 0: print(\"Obj: %9.4e\" % torch.min(L))\n",
    "    elite_idx = torch.argsort(L)[:Ne_cem]\n",
    "    model.fit(torch2np(S[elite_idx, :]))\n",
    "    S = np2torch(model.sample(N_cem)[0])\n",
    "    if not use_rollout_cem: S = project(S)\n",
    "if use_rollout_cem:\n",
    "    L = loss_fn(join_vars(rollout(S.reshape((-1, N, udim))), \n",
    "        S.reshape((-1, N, udim))))\n",
    "    U_cem = S[torch.argmin(L), :].reshape((N, udim))\n",
    "    X_cem = rollout(U_cem)\n",
    "else:\n",
    "    L = loss_fn(S)\n",
    "    X_cem, U_cem = split_vars(S[torch.argmin(L), :])\n",
    "print(\"Dynamics violation is %9.4e\" % dyn_viol(X_cem, U_cem))\n",
    "print(\"%10s took %9.4e s\" % (\"CEM\", time.time() - t))\n",
    "X_cem, U_cem = torch2np(X_cem), torch2np(U_cem)\n",
    "# 0th order, cross-entropy method ##############################################"
   ]
  },
  {
   "cell_type": "code",
   "execution_count": 7,
   "metadata": {},
   "outputs": [
    {
     "name": "stdout",
     "output_type": "stream",
     "text": [
      "1st: ---------------------------------------------------------------------------\n",
      "Obj: 6.7000e-04\n",
      "Obj: 1.5204e-02\n",
      "Obj: 2.1121e-02\n",
      "Obj: 5.7765e-02\n",
      "Obj: 9.6803e-02\n",
      "Obj: 1.5895e-01\n",
      "Obj: 2.0628e-01\n",
      "Obj: 2.5888e-01\n",
      "Obj: 3.1263e-01\n",
      "Obj: 3.5003e-01\n",
      "Dynamics violation is 5.6726e-05\n",
      "       AGD took 1.4014e-01 s\n"
     ]
    }
   ],
   "source": [
    "# 1st order, accelerated gradient descent (ADAM) ###############################\n",
    "print(\"1st: \" + \"-\" * 75)\n",
    "if use_rollout_agd: v = torch.nn.Parameter(torch.zeros((N, udim)))\n",
    "else:               v = torch.nn.Parameter(torch.zeros(N * (xdim + udim)))\n",
    "opt = torch.optim.Adam([v], lr=lr_fn(0))\n",
    "t = time.time()\n",
    "for k in range(K_agd):\n",
    "    lam = lams_agd[k]\n",
    "    if use_rollout_agd: loss_fn = lambda u: obj_val(rollout(u), u)\n",
    "    else:               loss_fn = loss_fn_gen(lam)\n",
    "    for i in range(M_agd // K_agd):\n",
    "        loss = loss_fn(v)\n",
    "        for g in opt.param_groups:\n",
    "            g[\"lr\"] = lr_fn(k * M_agd // K_agd + i)\n",
    "        opt.zero_grad()\n",
    "        loss.backward()\n",
    "        opt.step()\n",
    "        if i % max(M_agd // 10, 1) == 0: \n",
    "            if use_rollout_agd: print(\"Obj: %9.4e\" % obj_val(rollout(v), v))\n",
    "            else:               print(\"Obj: %9.4e\" % obj_val(*split_vars(v)))\n",
    "if use_rollout_agd: X_agd, U_agd = rollout(v), v\n",
    "else:               X_agd, U_agd = split_vars(v)\n",
    "print(\"Dynamics violation is %9.4e\" % dyn_viol(X_agd, U_agd))\n",
    "print(\"%10s took %9.4e s\" % (\"AGD\", time.time() - t))\n",
    "X_agd, U_agd = torch2np(X_agd), torch2np(U_agd)\n",
    "# 1st order, accelerated gradient descent (ADAM) ###############################"
   ]
  },
  {
   "cell_type": "code",
   "execution_count": 8,
   "metadata": {},
   "outputs": [
    {
     "name": "stdout",
     "output_type": "stream",
     "text": [
      "2nd: ---------------------------------------------------------------------------\n",
      "Obj: 4.2347e-01\n",
      "Dynamics violation is 1.3697e-30\n",
      "       CVX took 2.8121e-03\n"
     ]
    }
   ],
   "source": [
    "# 2nd order, equality constrained convex optimization ##########################\n",
    "print(\"2nd: \" + \"-\" * 75)\n",
    "t = time.time()\n",
    "P = torch.diag(torch.cat([Qd.reshape(-1), Rd.reshape(-1)]))\n",
    "K = torch.cat([torch.cat([P, A.transpose(-1, -2)], -1), torch.cat([A,\n",
    "    torch.zeros(2 * (xdim * N,))], -1)], -2)\n",
    "y = torch.cat([torch.zeros((N * (xdim + udim), 1)), b], -2)\n",
    "z = torch.lstsq(y, K)[0][..., 0]\n",
    "X_cvx, U_cvx = [torch2np(x) for x in split_vars(z[:N*(xdim+udim)])]\n",
    "print(\"Obj: %9.4e\" % obj_val(np2torch(X_cvx), np2torch(U_cvx)))\n",
    "print(\"Dynamics violation is %9.4e\" % dyn_viol(*split_vars(z[:N*(xdim+udim)])))\n",
    "print(\"%10s took %9.4e\" % (\"CVX\", time.time() - t))\n",
    "# 2nd order, equality constrained convex optimization ##########################"
   ]
  },
  {
   "cell_type": "code",
   "execution_count": 9,
   "metadata": {},
   "outputs": [
    {
     "data": {
      "image/png": "[encoded data removed]",
      "text/plain": [
       "<Figure size 432x288 with 1 Axes>"
      ]
     },
     "metadata": {
      "needs_background": "light"
     },
     "output_type": "display_data"
    },
    {
     "data": {
      "image/png": "[encoded data removed]",
      "text/plain": [
       "<Figure size 432x288 with 1 Axes>"
      ]
     },
     "metadata": {
      "needs_background": "light"
     },
     "output_type": "display_data"
    }
   ],
   "source": [
    "# plotting results #############################################################\n",
    "x0 = torch2np(x0)\n",
    "def pa(idx, label_prefix=\"\", linestyle=\"-\", alpha=0.5): # generate plot kwargs\n",
    "    COLORS = [\"red\", \"blue\", \"black\", \"green\", \"purple\", \"orange\", \"yellow\"]\n",
    "    return dict(label=label_prefix + str(idx), color=COLORS[idx], alpha=alpha,\n",
    "            linestyle=linestyle)\n",
    "plt.figure() # state curves\n",
    "for i in range(xdim):\n",
    "    plt.plot(np.concatenate([x0[i:i+1], X_cvx[:, i]]), **pa(i, \"x_cvx_\"))\n",
    "    plt.plot(np.concatenate([x0[i:i+1], X_agd[:, i]]), **pa(i, \"x_agd_\", \"--\"))\n",
    "    plt.plot(np.concatenate([x0[i:i+1], X_cem[:, i]]), **pa(i, \"x_cem_\", \":\"))\n",
    "plt.legend()\n",
    "plt.figure()\n",
    "for i in range(udim):\n",
    "    plt.plot(U_cvx[:, i], **pa(i, \"u_cvx_\"))\n",
    "    plt.plot(U_agd[:, i], **pa(i, \"u_agd_\", \"--\"))\n",
    "    plt.plot(U_cem[:, i], **pa(i, \"u_cem_\", \":\"))\n",
    "plt.legend()\n",
    "plt.show()\n",
    "# plotting results #############################################################"
   ]
  }
 ],
 "metadata": {
  "kernelspec": {
   "display_name": "Python 3",
   "language": "python",
   "name": "python3"
  },
  "language_info": {
   "codemirror_mode": {
    "name": "ipython",
    "version": 3
   },
   "file_extension": ".py",
   "mimetype": "text/x-python",
   "name": "python",
   "nbconvert_exporter": "python",
   "pygments_lexer": "ipython3",
   "version": "3.6.9"
  }
 },
 "nbformat": 4,
 "nbformat_minor": 4
}
